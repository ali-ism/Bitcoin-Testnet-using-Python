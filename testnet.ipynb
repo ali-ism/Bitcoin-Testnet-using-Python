{
  "nbformat": 4,
  "nbformat_minor": 0,
  "metadata": {
    "colab": {
      "name": "mine_block.ipynb",
      "provenance": []
    },
    "kernelspec": {
      "display_name": "Python 3",
      "name": "python3",
      "language": "python"
    }
  },
  "cells": [
    {
      "source": [
        "**EECE 798I Assignment 3 - Using testnet**\n",
        "\n",
        "Ali ismail\n",
        "\n",
        "ami31@mail.aub.edu\n",
        "\n",
        "202022492\n",
        "\n",
        "\n",
        "## 1) Testnet address:"
      ],
      "cell_type": "markdown",
      "metadata": {}
    },
    {
      "cell_type": "code",
      "execution_count": 1,
      "metadata": {},
      "outputs": [],
      "source": [
        "address = 'msti1A3wGddxo9bRuyLR6my6zJKqmVsSEi'"
      ]
    },
    {
      "source": [
        "## 2) Public key:"
      ],
      "cell_type": "markdown",
      "metadata": {}
    },
    {
      "cell_type": "code",
      "execution_count": 2,
      "metadata": {},
      "outputs": [],
      "source": [
        "pub_key = '037C05ECD8838B8174005437B24608714DFA0AE98B650845DB3F34BF1A2452DBA6'"
      ]
    },
    {
      "source": [
        "## 3) Testnet faucet transaction ID:\n",
        "c6cf03cce9ebcf8e31bdc32600089d48c114a0deb2e4983e953ce16b617dff82\n",
        "\n",
        "## 4) Transaction fee:\n",
        "0.00000168 BTC\n",
        "\n",
        "## 5) Block number (height):\n",
        "1938437\n",
        "\n",
        "## 6) Transaction time:\n",
        "The request was placed on testnet faucet at 21:05 and the block was added at 21:13:52.\n",
        "\n",
        "Therefore, it took around 9 minutes to add the transaction to a block.\n",
        "\n",
        "## 7) Verifying Testnet address given private key:"
      ],
      "cell_type": "markdown",
      "metadata": {}
    },
    {
      "cell_type": "code",
      "execution_count": 3,
      "metadata": {},
      "outputs": [
        {
          "output_type": "execute_result",
          "data": {
            "text/plain": [
              "'msti1A3wGddxo9bRuyLR6my6zJKqmVsSEi'"
            ]
          },
          "metadata": {},
          "execution_count": 3
        }
      ],
      "source": [
        "from bit import PrivateKeyTestnet\n",
        "\n",
        "with open('key.priv', 'r') as key_file:\n",
        "    priv_key = key_file.read()\n",
        "\n",
        "key = PrivateKeyTestnet(priv_key)\n",
        "key.address"
      ]
    },
    {
      "cell_type": "code",
      "execution_count": 4,
      "metadata": {},
      "outputs": [
        {
          "output_type": "execute_result",
          "data": {
            "text/plain": [
              "b'037c05ecd8838b8174005437b24608714dfa0ae98b650845db3f34bf1a2452dba6'"
            ]
          },
          "metadata": {},
          "execution_count": 4
        }
      ],
      "source": [
        "from binascii import hexlify\n",
        "hexlify(key.public_key)"
      ]
    },
    {
      "cell_type": "code",
      "execution_count": 5,
      "metadata": {},
      "outputs": [
        {
          "output_type": "execute_result",
          "data": {
            "text/plain": [
              "True"
            ]
          },
          "metadata": {},
          "execution_count": 5
        }
      ],
      "source": [
        "key.address == address and hexlify(key.public_key).decode() == pub_key.lower()"
      ]
    },
    {
      "source": [
        "## 8) Verifying balance in BTC:"
      ],
      "cell_type": "markdown",
      "metadata": {}
    },
    {
      "cell_type": "code",
      "execution_count": 6,
      "metadata": {},
      "outputs": [
        {
          "output_type": "execute_result",
          "data": {
            "text/plain": [
              "'0.005'"
            ]
          },
          "metadata": {},
          "execution_count": 6
        }
      ],
      "source": [
        "key.get_balance('btc')"
      ]
    },
    {
      "source": [
        "## 9) Transaction ID of the new transaction:"
      ],
      "cell_type": "markdown",
      "metadata": {}
    },
    {
      "cell_type": "code",
      "execution_count": 7,
      "metadata": {},
      "outputs": [
        {
          "output_type": "stream",
          "name": "stdout",
          "text": [
            "2a7168050533013c0458c184261d4a6887e606c74ce1bdb0d2c96291b4bad193\n"
          ]
        }
      ],
      "source": [
        "target_address = 'mh4SbUqFzWzC6KhfUtLmZ5ch3iFwVQURjM'\n",
        "\n",
        "tx_id = key.send([(target_address, 0.001, 'btc')])\n",
        "\n",
        "with open('tx_id.txt', 'w') as tx_file:\n",
        "    tx_file.write(tx_id)\n",
        "\n",
        "print(tx_id)"
      ]
    },
    {
      "source": [
        "## 10) Block number (height) where this transaction was recorded:\n",
        "1938524\n",
        "\n",
        "## 11) Transaction fee:\n",
        "0.00023052 BTC\n",
        "\n",
        "## 12) Remaining balance:"
      ],
      "cell_type": "markdown",
      "metadata": {}
    },
    {
      "cell_type": "code",
      "execution_count": 8,
      "metadata": {},
      "outputs": [
        {
          "output_type": "execute_result",
          "data": {
            "text/plain": [
              "'0.00376948'"
            ]
          },
          "metadata": {},
          "execution_count": 8
        }
      ],
      "source": [
        "key.get_balance('btc')"
      ]
    },
    {
      "source": [
        "Verifying remaining balance:\n",
        "\n",
        "*The bit library automatically determines the appropriate transaction fees and includes a transaction that returns the change to the sender unless otherwise specified.*"
      ],
      "cell_type": "markdown",
      "metadata": {}
    },
    {
      "cell_type": "code",
      "execution_count": 12,
      "metadata": {},
      "outputs": [
        {
          "output_type": "execute_result",
          "data": {
            "text/plain": [
              "True"
            ]
          },
          "metadata": {},
          "execution_count": 12
        }
      ],
      "source": [
        "float(key.get_balance('btc')) == 0.005 - 0.001 - 0.00023052"
      ]
    }
  ]
}